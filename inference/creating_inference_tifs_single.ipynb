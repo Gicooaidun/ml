{
 "cells": [
  {
   "cell_type": "markdown",
   "metadata": {},
   "source": [
    "adding the raw inference outputs to the cropped_mosaics"
   ]
  },
  {
   "cell_type": "code",
   "execution_count": 21,
   "metadata": {},
   "outputs": [
    {
     "name": "stdout",
     "output_type": "stream",
     "text": [
      "(2, 3611, 3610)\n",
      "(10980, 10980, 2)\n"
     ]
    }
   ],
   "source": [
    "import rasterio\n",
    "import numpy as np\n",
    "from skimage.transform import resize\n",
    "\n",
    "# Load the TIFF file\n",
    "with rasterio.open('../../notebook/cropped_mosaic_no_nan/52VDQ_cropped_mosaic.tif') as src:\n",
    "    # Read the existing bands\n",
    "    bands = src.read()\n",
    "    print(bands.shape)\n",
    "\n",
    "    # Load the NumPy array\n",
    "    array = np.load('done_inference_tiles/inference_ensemble_52VDQ.npy')\n",
    "    data = array[0]\n",
    "    print(data.shape)\n",
    "    data = np.moveaxis(data, 2, 0)\n",
    "    print(data.shape)\n",
    "    resized_data = resize(data, bands.shape)\n",
    "    print(resized_data.shape)\n",
    "\n",
    "    # Check if the dimensions of the array match the TIFF file\n",
    "    if bands.shape[1:] != resized_data.shape[1:]:\n",
    "        raise ValueError(\"Array dimensions do not match the TIFF file\")\n",
    "\n",
    "    # Create a new array with the additional band\n",
    "    new_bands = np.concatenate((bands, resized_data), axis=0)\n",
    "\n",
    "    profile = src.profile\n",
    "    profile['count'] = 4\n",
    "\n",
    "    # Create a new TIFF file with the additional band\n",
    "    with rasterio.open('inference_tifs/52VDQ_inference.tif', 'w', **profile) as dst:\n",
    "        dst.write(new_bands)\n"
   ]
  },
  {
   "cell_type": "markdown",
   "metadata": {},
   "source": [
    "only reading center predictions for every patch"
   ]
  },
  {
   "cell_type": "code",
   "execution_count": 2,
   "metadata": {},
   "outputs": [
    {
     "name": "stdout",
     "output_type": "stream",
     "text": [
      "(2, 3611, 3610)\n",
      "(10980, 10980, 2)\n",
      "(2, 366, 366)\n",
      "(2, 3611, 3610)\n"
     ]
    }
   ],
   "source": [
    "import rasterio\n",
    "import numpy as np\n",
    "from skimage.transform import resize\n",
    "\n",
    "# Load the TIFF file\n",
    "with rasterio.open('../../notebook/cropped_mosaic_no_nan/52VDQ_cropped_mosaic.tif') as src:\n",
    "    # Read the existing bands\n",
    "    bands = src.read()\n",
    "    print(bands.shape)\n",
    "\n",
    "    # Load the NumPy array\n",
    "    array = np.load('done_inference_tiles/inference_ensemble_52VDQ.npy')\n",
    "    data = array[0]\n",
    "    print(data.shape)\n",
    "    data = np.moveaxis(data, 2, 0)\n",
    "\n",
    "    data = data[:,7::30,7::30]\n",
    "\n",
    "    print(data.shape)\n",
    "    resized_data = resize(data, bands.shape)\n",
    "    print(resized_data.shape)\n",
    "\n",
    "    # Check if the dimensions of the array match the TIFF file\n",
    "    if bands.shape[1:] != resized_data.shape[1:]:\n",
    "        raise ValueError(\"Array dimensions do not match the TIFF file\")\n",
    "\n",
    "    # Create a new array with the additional band\n",
    "    new_bands = np.concatenate((bands, resized_data), axis=0)\n",
    "\n",
    "    profile = src.profile\n",
    "    profile['count'] = 4\n",
    "    \n",
    "    '''\n",
    "    band 1: icesat agbd\n",
    "    band 2: icesat std\n",
    "    band 3: predicted agbd\n",
    "    band 4: ensemble std\n",
    "    \n",
    "    '''\n",
    "\n",
    "    # Create a new TIFF file with the additional band\n",
    "    with rasterio.open('inference_tifs/52VDQ_inference_downsampled.tif', 'w', **profile) as dst:\n",
    "        dst.write(new_bands)\n"
   ]
  },
  {
   "cell_type": "markdown",
   "metadata": {},
   "source": [
    "including the difference between icesat and predicted agbd"
   ]
  },
  {
   "cell_type": "code",
   "execution_count": 5,
   "metadata": {},
   "outputs": [
    {
     "name": "stdout",
     "output_type": "stream",
     "text": [
      "(2, 3611, 3610)\n",
      "(10980, 10980, 2)\n",
      "(2, 732, 732)\n",
      "(2, 3611, 3610)\n"
     ]
    }
   ],
   "source": [
    "import rasterio\n",
    "import numpy as np\n",
    "from skimage.transform import resize\n",
    "\n",
    "# Load the TIFF file\n",
    "with rasterio.open('../../notebook/cropped_mosaic_no_nan/52VDQ_cropped_mosaic.tif') as src:\n",
    "    # Read the existing bands\n",
    "    bands = src.read()\n",
    "    print(bands.shape)\n",
    "\n",
    "    # Load the NumPy array\n",
    "    array = np.load('done_inference_tiles/inference_ensemble_52VDQ.npy')\n",
    "    data = array[0]\n",
    "    print(data.shape)\n",
    "    data = np.moveaxis(data, 2, 0)\n",
    "\n",
    "    data = data[:,7::15,7::15]\n",
    "\n",
    "    print(data.shape)\n",
    "    resized_data = resize(data, bands.shape)\n",
    "    print(resized_data.shape)\n",
    "\n",
    "    # Check if the dimensions of the array match the TIFF file\n",
    "    if bands.shape[1:] != resized_data.shape[1:]:\n",
    "        raise ValueError(\"Array dimensions do not match the TIFF file\")\n",
    "\n",
    "    difference = np.where(bands[0] == -9999, 0 - resized_data[0], bands[0] - resized_data[0])\n",
    "    difference = np.expand_dims(difference, axis=0)\n",
    "    # Create a new array with the additional band\n",
    "    new_bands = np.concatenate((bands, resized_data, difference), axis=0)\n",
    "\n",
    "    profile = src.profile\n",
    "    profile['count'] = 5\n",
    "    \n",
    "    '''\n",
    "    band 1: icesat agbd\n",
    "    band 2: icesat std\n",
    "    band 3: predicted agbd\n",
    "    band 4: ensemble std\n",
    "    band 5: difference between icesat and predicted agbd\n",
    "    \n",
    "    '''\n",
    "\n",
    "    # Create a new TIFF file with the additional band\n",
    "    with rasterio.open('inference_tifs/52VDQ_inference_difference.tif', 'w', **profile) as dst:\n",
    "        dst.write(new_bands)\n"
   ]
  },
  {
   "cell_type": "code",
   "execution_count": 4,
   "metadata": {},
   "outputs": [
    {
     "name": "stdout",
     "output_type": "stream",
     "text": [
      "52VDM\n",
      "52VDN\n",
      "52VDP\n",
      "52VEM\n",
      "52VEN\n",
      "52VEP\n",
      "52VEQ\n"
     ]
    }
   ],
   "source": [
    "import os\n",
    "import rasterio\n",
    "import numpy as np\n",
    "from skimage.transform import resize\n",
    "\n",
    "# Specify the directory containing the numpy arrays\n",
    "numpy_dir = 'done_inference_tiles/low_res/'\n",
    "\n",
    "# Get a list of all numpy files in the directory\n",
    "numpy_files = [f for f in os.listdir(numpy_dir) if f.endswith('.npy')]\n",
    "\n",
    "# Loop over each numpy file\n",
    "for numpy_file in numpy_files:\n",
    "    # Load the TIFF file\n",
    "    tile = numpy_file[-9:-4]\n",
    "    print(tile)\n",
    "    with rasterio.open(f'../../notebook/cropped_mosaic_no_nan/{tile}_cropped_mosaic.tif') as src:\n",
    "        # Read the existing bands\n",
    "        bands = src.read()\n",
    "\n",
    "        # Load the NumPy array\n",
    "        array = np.load(os.path.join(numpy_dir, numpy_file))\n",
    "        data = array[0]\n",
    "        data = np.moveaxis(data, 2, 0)\n",
    "\n",
    "        data = data[:,7::30,7::30]\n",
    "\n",
    "        resized_data = resize(data, bands.shape)\n",
    "\n",
    "        # Check if the dimensions of the array match the TIFF file\n",
    "        if bands.shape[1:] != resized_data.shape[1:]:\n",
    "            raise ValueError(\"Array dimensions do not match the TIFF file\")\n",
    "\n",
    "        difference = np.where(bands[0] == -9999, 0 - resized_data[0], bands[0] - resized_data[0])\n",
    "        difference = np.expand_dims(difference, axis=0)\n",
    "        # Create a new array with the additional band\n",
    "        new_bands = np.concatenate((bands, resized_data, difference), axis=0)\n",
    "\n",
    "        profile = src.profile\n",
    "        profile['count'] = 5\n",
    "\n",
    "        # Create a new TIFF file with the additional band\n",
    "        output_filename = 'inference_tifs/' + tile + '_inference_difference.tif'\n",
    "        with rasterio.open(output_filename, 'w', **profile) as dst:\n",
    "            dst.write(new_bands)"
   ]
  }
 ],
 "metadata": {
  "kernelspec": {
   "display_name": "Python 3",
   "language": "python",
   "name": "python3"
  },
  "language_info": {
   "codemirror_mode": {
    "name": "ipython",
    "version": 3
   },
   "file_extension": ".py",
   "mimetype": "text/x-python",
   "name": "python",
   "nbconvert_exporter": "python",
   "pygments_lexer": "ipython3",
   "version": "3.10.12"
  }
 },
 "nbformat": 4,
 "nbformat_minor": 2
}
